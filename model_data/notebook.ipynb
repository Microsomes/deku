{
 "cells": [
  {
   "cell_type": "code",
   "execution_count": 2,
   "metadata": {},
   "outputs": [],
   "source": [
    "import pandas as pd\n",
    "import numpy as np\n",
    "from matplotlib import pyplot as plt\n",
    "import matplotlib.colors as colors\n",
    "from gptomics import plot"
   ]
  },
  {
   "cell_type": "code",
   "execution_count": 3,
   "metadata": {},
   "outputs": [
    {
     "data": {
      "text/html": [
       "<div>\n",
       "<style scoped>\n",
       "    .dataframe tbody tr th:only-of-type {\n",
       "        vertical-align: middle;\n",
       "    }\n",
       "\n",
       "    .dataframe tbody tr th {\n",
       "        vertical-align: top;\n",
       "    }\n",
       "\n",
       "    .dataframe thead th {\n",
       "        text-align: right;\n",
       "    }\n",
       "</style>\n",
       "<table border=\"1\" class=\"dataframe\">\n",
       "  <thead>\n",
       "    <tr style=\"text-align: right;\">\n",
       "      <th></th>\n",
       "      <th>0</th>\n",
       "    </tr>\n",
       "  </thead>\n",
       "  <tbody>\n",
       "    <tr>\n",
       "      <th>0</th>\n",
       "      <td>1</td>\n",
       "    </tr>\n",
       "    <tr>\n",
       "      <th>1</th>\n",
       "      <td>4</td>\n",
       "    </tr>\n",
       "    <tr>\n",
       "      <th>2</th>\n",
       "      <td>9</td>\n",
       "    </tr>\n",
       "  </tbody>\n",
       "</table>\n",
       "</div>"
      ],
      "text/plain": [
       "   0\n",
       "0  1\n",
       "1  4\n",
       "2  9"
      ]
     },
     "execution_count": 3,
     "metadata": {},
     "output_type": "execute_result"
    }
   ],
   "source": [
    "i = pd.DataFrame([1,2,3])\n",
    "i * i\n"
   ]
  },
  {
   "cell_type": "code",
   "execution_count": 102,
   "metadata": {},
   "outputs": [],
   "source": [
    "apply_sleep = np.asarray(pd.read_csv(filepath_or_buffer=\"./apply_sleep\"))\n",
    "apply_speed = np.asarray(pd.read_csv(filepath_or_buffer=\"./apply_speed\"))\n",
    "produce_sleep = np.asarray(pd.read_csv(filepath_or_buffer=\"./produce_sleep\"))\n",
    "produce_speed = np.asarray(pd.read_csv(filepath_or_buffer=\"./produce_speed\"))\n",
    "network_sleep = np.asarray(pd.read_csv(filepath_or_buffer=\"./network_sleep\"))\n",
    "network_speed = np.asarray(pd.read_csv(filepath_or_buffer=\"./network_speed\"))"
   ]
  },
  {
   "cell_type": "code",
   "execution_count": 38,
   "metadata": {},
   "outputs": [
    {
     "name": "stdout",
     "output_type": "stream",
     "text": [
      "     sleep\n",
      "0      0.0\n",
      "1      0.0\n",
      "2      0.0\n",
      "3      0.0\n",
      "4      0.0\n",
      "..     ...\n",
      "153    0.6\n",
      "154    0.6\n",
      "155    0.6\n",
      "156    0.6\n",
      "157    0.6\n",
      "\n",
      "[158 rows x 1 columns]\n",
      "        speed\n",
      "0    1.376764\n",
      "1    1.163954\n",
      "2    1.183213\n",
      "3    1.167528\n",
      "4    1.162372\n",
      "..        ...\n",
      "153  0.816909\n",
      "154  0.832507\n",
      "155  0.819425\n",
      "156  0.821571\n",
      "157  0.815438\n",
      "\n",
      "[158 rows x 1 columns]\n"
     ]
    }
   ],
   "source": [
    "print(apply_sleep)\n",
    "print(apply_speed)"
   ]
  },
  {
   "cell_type": "code",
   "execution_count": 5,
   "metadata": {},
   "outputs": [
    {
     "data": {
      "text/html": [
       "<div>\n",
       "<style scoped>\n",
       "    .dataframe tbody tr th:only-of-type {\n",
       "        vertical-align: middle;\n",
       "    }\n",
       "\n",
       "    .dataframe tbody tr th {\n",
       "        vertical-align: top;\n",
       "    }\n",
       "\n",
       "    .dataframe thead th {\n",
       "        text-align: right;\n",
       "    }\n",
       "</style>\n",
       "<table border=\"1\" class=\"dataframe\">\n",
       "  <thead>\n",
       "    <tr style=\"text-align: right;\">\n",
       "      <th></th>\n",
       "      <th>sleep: 0.0</th>\n",
       "    </tr>\n",
       "  </thead>\n",
       "  <tbody>\n",
       "    <tr>\n",
       "      <th>0</th>\n",
       "      <td>sleep: 0.0</td>\n",
       "    </tr>\n",
       "    <tr>\n",
       "      <th>1</th>\n",
       "      <td>sleep: 0.0</td>\n",
       "    </tr>\n",
       "    <tr>\n",
       "      <th>2</th>\n",
       "      <td>sleep: 0.0</td>\n",
       "    </tr>\n",
       "    <tr>\n",
       "      <th>3</th>\n",
       "      <td>sleep: 0.0</td>\n",
       "    </tr>\n",
       "    <tr>\n",
       "      <th>4</th>\n",
       "      <td>sleep: 0.0</td>\n",
       "    </tr>\n",
       "    <tr>\n",
       "      <th>...</th>\n",
       "      <td>...</td>\n",
       "    </tr>\n",
       "    <tr>\n",
       "      <th>187</th>\n",
       "      <td>sleep: 0.25</td>\n",
       "    </tr>\n",
       "    <tr>\n",
       "      <th>188</th>\n",
       "      <td>sleep: 0.25</td>\n",
       "    </tr>\n",
       "    <tr>\n",
       "      <th>189</th>\n",
       "      <td>sleep: 0.25</td>\n",
       "    </tr>\n",
       "    <tr>\n",
       "      <th>190</th>\n",
       "      <td>sleep: 0.25</td>\n",
       "    </tr>\n",
       "    <tr>\n",
       "      <th>191</th>\n",
       "      <td>sleep: 0.25</td>\n",
       "    </tr>\n",
       "  </tbody>\n",
       "</table>\n",
       "<p>192 rows × 1 columns</p>\n",
       "</div>"
      ],
      "text/plain": [
       "      sleep: 0.0\n",
       "0     sleep: 0.0\n",
       "1     sleep: 0.0\n",
       "2     sleep: 0.0\n",
       "3     sleep: 0.0\n",
       "4     sleep: 0.0\n",
       "..           ...\n",
       "187  sleep: 0.25\n",
       "188  sleep: 0.25\n",
       "189  sleep: 0.25\n",
       "190  sleep: 0.25\n",
       "191  sleep: 0.25\n",
       "\n",
       "[192 rows x 1 columns]"
      ]
     },
     "execution_count": 5,
     "metadata": {},
     "output_type": "execute_result"
    }
   ],
   "source": [
    "produce_sleep"
   ]
  },
  {
   "cell_type": "code",
   "execution_count": 6,
   "metadata": {},
   "outputs": [
    {
     "data": {
      "text/plain": [
       "False"
      ]
     },
     "execution_count": 6,
     "metadata": {},
     "output_type": "execute_result"
    }
   ],
   "source": [
    "\n",
    "len(produce_sleep) == len(produce_speed)"
   ]
  },
  {
   "cell_type": "code",
   "execution_count": 7,
   "metadata": {},
   "outputs": [
    {
     "data": {
      "text/plain": [
       "True"
      ]
     },
     "execution_count": 7,
     "metadata": {},
     "output_type": "execute_result"
    }
   ],
   "source": [
    "\n",
    "len(network_sleep) == len(network_speed)"
   ]
  },
  {
   "cell_type": "code",
   "execution_count": 97,
   "metadata": {},
   "outputs": [],
   "source": [
    "class Linear_model:\n",
    "  def __init__(self, m, b, learning_rate):\n",
    "    self.m = m\n",
    "    self.b = b\n",
    "    self.learning_rate = learning_rate\n",
    "\n",
    "  def ev(self, x_input):\n",
    "    self.guess = self.m * x_input + self.b \n",
    "\n",
    "  def backwards(self, x_input, y_input):\n",
    "    self.ev(x_input)\n",
    "    self.error = (y_input - self.guess) ** 2\n",
    "    # self.m_grad = 2 * self.m * (x_input ** 2) - 2 * y_input * x_input + 2 * x_input * self.b\n",
    "    self.m_grad = 2 * (y_input - self.guess) * x_input\n",
    "    # self.b_grad = 2 * self.b - y_input + 2 * self.m * x_input\n",
    "    self.b_grad = 2 * (y_input - self.guess) \n",
    "\n",
    "  def backprop(self, x_input, y_input):\n",
    "    self.backwards(x_input, y_input)\n",
    "    self.m += (- self.m_grad.mean()) * self.learning_rate\n",
    "    self.b += (- self.b_grad.mean()) * self.learning_rate\n",
    "    \n",
    "  def learn(self, x_input, y_input, rounds):\n",
    "    halfway = int(len(y_input)/2)\n",
    "    self.m = (y_input[halfway] - y_input[0])/ (x_input[halfway] - x_input[0])\n",
    "    self.b = y_input[0] - x_input[0] * self.m \n",
    "    for i in range(1, rounds):\n",
    "      self.backprop(x_input, y_input)\n",
    "    self.ev(x_input)\n"
   ]
  },
  {
   "cell_type": "code",
   "execution_count": 24,
   "metadata": {},
   "outputs": [
    {
     "data": {
      "text/html": [
       "<div>\n",
       "<style scoped>\n",
       "    .dataframe tbody tr th:only-of-type {\n",
       "        vertical-align: middle;\n",
       "    }\n",
       "\n",
       "    .dataframe tbody tr th {\n",
       "        vertical-align: top;\n",
       "    }\n",
       "\n",
       "    .dataframe thead th {\n",
       "        text-align: right;\n",
       "    }\n",
       "</style>\n",
       "<table border=\"1\" class=\"dataframe\">\n",
       "  <thead>\n",
       "    <tr style=\"text-align: right;\">\n",
       "      <th></th>\n",
       "      <th>0</th>\n",
       "    </tr>\n",
       "  </thead>\n",
       "  <tbody>\n",
       "    <tr>\n",
       "      <th>0</th>\n",
       "      <td>0</td>\n",
       "    </tr>\n",
       "    <tr>\n",
       "      <th>1</th>\n",
       "      <td>0</td>\n",
       "    </tr>\n",
       "    <tr>\n",
       "      <th>2</th>\n",
       "      <td>0</td>\n",
       "    </tr>\n",
       "    <tr>\n",
       "      <th>3</th>\n",
       "      <td>0</td>\n",
       "    </tr>\n",
       "    <tr>\n",
       "      <th>4</th>\n",
       "      <td>0</td>\n",
       "    </tr>\n",
       "    <tr>\n",
       "      <th>...</th>\n",
       "      <td>...</td>\n",
       "    </tr>\n",
       "    <tr>\n",
       "      <th>94</th>\n",
       "      <td>0</td>\n",
       "    </tr>\n",
       "    <tr>\n",
       "      <th>95</th>\n",
       "      <td>0</td>\n",
       "    </tr>\n",
       "    <tr>\n",
       "      <th>96</th>\n",
       "      <td>0</td>\n",
       "    </tr>\n",
       "    <tr>\n",
       "      <th>97</th>\n",
       "      <td>0</td>\n",
       "    </tr>\n",
       "    <tr>\n",
       "      <th>98</th>\n",
       "      <td>0</td>\n",
       "    </tr>\n",
       "  </tbody>\n",
       "</table>\n",
       "<p>99 rows × 1 columns</p>\n",
       "</div>"
      ],
      "text/plain": [
       "    0\n",
       "0   0\n",
       "1   0\n",
       "2   0\n",
       "3   0\n",
       "4   0\n",
       ".. ..\n",
       "94  0\n",
       "95  0\n",
       "96  0\n",
       "97  0\n",
       "98  0\n",
       "\n",
       "[99 rows x 1 columns]"
      ]
     },
     "execution_count": 24,
     "metadata": {},
     "output_type": "execute_result"
    }
   ],
   "source": [
    "data = pd.DataFrame(list(range(1,100)))\n",
    "model = Linear_model(0,0, .00005)\n",
    "model.ev(data)\n",
    "model.guess"
   ]
  },
  {
   "cell_type": "code",
   "execution_count": 95,
   "metadata": {},
   "outputs": [],
   "source": [
    "\n",
    "model = Linear_model(0, 0 ,.0001)\n",
    "model.learn(apply_sleep, apply_speed, 200)"
   ]
  },
  {
   "cell_type": "code",
   "execution_count": 103,
   "metadata": {},
   "outputs": [
    {
     "data": {
      "text/plain": [
       "<matplotlib.collections.PathCollection at 0x7f4f5a566f40>"
      ]
     },
     "execution_count": 103,
     "metadata": {},
     "output_type": "execute_result"
    },
    {
     "data": {
      "image/png": "[encoded data removed]",
      "text/plain": [
       "<Figure size 1008x720 with 1 Axes>"
      ]
     },
     "metadata": {
      "needs_background": "light"
     },
     "output_type": "display_data"
    }
   ],
   "source": [
    "model = Linear_model(0, 0 ,.000001)\n",
    "model.learn(apply_sleep, apply_speed, 200)\n",
    "\n",
    "plt.figure(figsize=(14,10))\n",
    "plt.xlabel(\"sleep\")\n",
    "plt.ylabel(\"speed\")\n",
    "plt.scatter(apply_sleep,apply_speed)\n",
    "\n",
    "data = np.arange(0,.7,.01)\n",
    "model.ev(data)\n",
    "plt.scatter(data, model.guess)"
   ]
  },
  {
   "cell_type": "code",
   "execution_count": 105,
   "metadata": {},
   "outputs": [
    {
     "data": {
      "text/plain": [
       "<matplotlib.collections.PathCollection at 0x7f4f5a4942e0>"
      ]
     },
     "execution_count": 105,
     "metadata": {},
     "output_type": "execute_result"
    },
    {
     "data": {
      "image/png": "[encoded data removed]",
      "text/plain": [
       "<Figure size 1008x720 with 1 Axes>"
      ]
     },
     "metadata": {
      "needs_background": "light"
     },
     "output_type": "display_data"
    }
   ],
   "source": [
    "\n",
    "model = Linear_model(0, 0 ,.0001)\n",
    "model.learn(produce_sleep, produce_speed, 200)\n",
    "\n",
    "plt.figure(figsize=(14,10))\n",
    "plt.xlabel(\"sleep\")\n",
    "plt.ylabel(\"speed\")\n",
    "plt.scatter(produce_sleep,produce_speed)\n",
    "\n",
    "data = np.arange(0,.7,.01)\n",
    "model.ev(data)\n",
    "plt.scatter(data, model.guess)"
   ]
  },
  {
   "cell_type": "code",
   "execution_count": null,
   "metadata": {},
   "outputs": [
    {
     "data": {
      "text/plain": [
       "<matplotlib.collections.PathCollection at 0x7f7214bd0ac0>"
      ]
     },
     "execution_count": 111,
     "metadata": {},
     "output_type": "execute_result"
    },
    {
     "data": {
      "image/png": "[encoded data removed]",
      "text/plain": [
       "<Figure size 1008x720 with 1 Axes>"
      ]
     },
     "metadata": {
      "needs_background": "light"
     },
     "output_type": "display_data"
    }
   ],
   "source": [
    "\n",
    "plt.figure(figsize=(14,10))\n",
    "plt.xlabel(\"sleep\")\n",
    "plt.ylabel(\"speed\")\n",
    "plt.scatter(network_sleep,network_speed)"
   ]
  },
  {
   "cell_type": "code",
   "execution_count": null,
   "metadata": {},
   "outputs": [],
   "source": []
  },
  {
   "cell_type": "code",
   "execution_count": null,
   "metadata": {},
   "outputs": [],
   "source": []
  }
 ],
 "metadata": {
  "kernelspec": {
   "display_name": "Python 3.9.7 ('gpt-neo')",
   "language": "python",
   "name": "python3"
  },
  "language_info": {
   "codemirror_mode": {
    "name": "ipython",
    "version": 3
   },
   "file_extension": ".py",
   "mimetype": "text/x-python",
   "name": "python",
   "nbconvert_exporter": "python",
   "pygments_lexer": "ipython3",
   "version": "3.9.7"
  },
  "orig_nbformat": 4,
  "vscode": {
   "interpreter": {
    "hash": "4c91b108c83889fa8a8889475d4b2552c0ba3a614a4139a7d647f43856c828e2"
   }
  }
 },
 "nbformat": 4,
 "nbformat_minor": 2
}
